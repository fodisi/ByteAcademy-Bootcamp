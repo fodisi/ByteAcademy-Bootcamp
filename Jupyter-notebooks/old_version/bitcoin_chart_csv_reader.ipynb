{
 "metadata": {
  "name": "",
  "signature": "sha256:dce2426dcf6abf6eb1e0764883c164ae54a06550995f1fc0fbf6bc65ab256e7c"
 },
 "nbformat": 3,
 "nbformat_minor": 0,
 "worksheets": [
  {
   "cells": [
    {
     "cell_type": "code",
     "collapsed": false,
     "input": [
      "import pandas as pd\n",
      "import numpy as np\n",
      "import matplotlib.pyplot as plt"
     ],
     "language": "python",
     "metadata": {},
     "outputs": [],
     "prompt_number": 1
    },
    {
     "cell_type": "code",
     "collapsed": false,
     "input": [
      "import csv"
     ],
     "language": "python",
     "metadata": {},
     "outputs": [],
     "prompt_number": 2
    },
    {
     "cell_type": "code",
     "collapsed": false,
     "input": [
      "#filename = '/home/francisodisi/mecha/w2/d2/btc_prices/krakenUSD.csv'\n",
      "#filename = '/home/francisodisi/mecha/w2/d2/btc_prices/krakenUSD-10lines.csv'\n",
      "filename = '/home/francisodisi/mecha/w2/d2/btc_prices/krakenUSD-10K.csv'\n",
      "\n",
      "with open(filename) as f:\n",
      "    unix_times = []\n",
      "    last_prices = []\n",
      "    trade_volumes = []\n",
      "    rows = csv.reader(f)\n",
      "    for row in rows:\n",
      "        unix_time = int(row[0])\n",
      "        last_price = float(row[1])\n",
      "        trade_volume = float(row[2])\n",
      "        unix_times.append(unix_time)\n",
      "        last_prices.append(last_price)\n",
      "        trade_volumes.append(trade_volume)"
     ],
     "language": "python",
     "metadata": {},
     "outputs": [],
     "prompt_number": 3
    },
    {
     "cell_type": "code",
     "collapsed": false,
     "input": [
      "df = pd.DataFrame({'A': unix_times,\n",
      "                   'B': last_prices,\n",
      "                   'C': trade_volumes})"
     ],
     "language": "python",
     "metadata": {},
     "outputs": [],
     "prompt_number": 4
    },
    {
     "cell_type": "code",
     "collapsed": false,
     "input": [
      "#df"
     ],
     "language": "python",
     "metadata": {},
     "outputs": [],
     "prompt_number": 5
    },
    {
     "cell_type": "code",
     "collapsed": false,
     "input": [
      "df.describe()"
     ],
     "language": "python",
     "metadata": {},
     "outputs": [
      {
       "html": [
        "<div style=\"max-width:1500px;overflow:auto;\">\n",
        "<style scoped>\n",
        "    .dataframe tbody tr th:only-of-type {\n",
        "        vertical-align: middle;\n",
        "    }\n",
        "\n",
        "    .dataframe tbody tr th {\n",
        "        vertical-align: top;\n",
        "    }\n",
        "\n",
        "    .dataframe thead th {\n",
        "        text-align: right;\n",
        "    }\n",
        "</style>\n",
        "<table border=\"1\" class=\"dataframe\">\n",
        "  <thead>\n",
        "    <tr style=\"text-align: right;\">\n",
        "      <th></th>\n",
        "      <th>A</th>\n",
        "      <th>B</th>\n",
        "      <th>C</th>\n",
        "    </tr>\n",
        "  </thead>\n",
        "  <tbody>\n",
        "    <tr>\n",
        "      <th>count</th>\n",
        "      <td>1.000000e+04</td>\n",
        "      <td>10000.000000</td>\n",
        "      <td>1.000000e+04</td>\n",
        "    </tr>\n",
        "    <tr>\n",
        "      <th>mean</th>\n",
        "      <td>1.528146e+09</td>\n",
        "      <td>7478.206470</td>\n",
        "      <td>3.303704e-01</td>\n",
        "    </tr>\n",
        "    <tr>\n",
        "      <th>std</th>\n",
        "      <td>2.612107e+04</td>\n",
        "      <td>54.398141</td>\n",
        "      <td>9.565610e-01</td>\n",
        "    </tr>\n",
        "    <tr>\n",
        "      <th>min</th>\n",
        "      <td>1.528106e+09</td>\n",
        "      <td>7368.400000</td>\n",
        "      <td>1.000000e-08</td>\n",
        "    </tr>\n",
        "    <tr>\n",
        "      <th>25%</th>\n",
        "      <td>1.528122e+09</td>\n",
        "      <td>7431.200000</td>\n",
        "      <td>1.105222e-02</td>\n",
        "    </tr>\n",
        "    <tr>\n",
        "      <th>50%</th>\n",
        "      <td>1.528146e+09</td>\n",
        "      <td>7483.100000</td>\n",
        "      <td>7.451379e-02</td>\n",
        "    </tr>\n",
        "    <tr>\n",
        "      <th>75%</th>\n",
        "      <td>1.528167e+09</td>\n",
        "      <td>7510.000000</td>\n",
        "      <td>2.498726e-01</td>\n",
        "    </tr>\n",
        "    <tr>\n",
        "      <th>max</th>\n",
        "      <td>1.528194e+09</td>\n",
        "      <td>7622.800000</td>\n",
        "      <td>3.738648e+01</td>\n",
        "    </tr>\n",
        "  </tbody>\n",
        "</table>\n",
        "</div>"
       ],
       "metadata": {},
       "output_type": "pyout",
       "prompt_number": 6,
       "text": [
        "                  A             B             C\n",
        "count  1.000000e+04  10000.000000  1.000000e+04\n",
        "mean   1.528146e+09   7478.206470  3.303704e-01\n",
        "std    2.612107e+04     54.398141  9.565610e-01\n",
        "min    1.528106e+09   7368.400000  1.000000e-08\n",
        "25%    1.528122e+09   7431.200000  1.105222e-02\n",
        "50%    1.528146e+09   7483.100000  7.451379e-02\n",
        "75%    1.528167e+09   7510.000000  2.498726e-01\n",
        "max    1.528194e+09   7622.800000  3.738648e+01"
       ]
      }
     ],
     "prompt_number": 6
    },
    {
     "cell_type": "code",
     "collapsed": false,
     "input": [
      "%matplotlib inline\n",
      "#Row number on x-axis\n",
      "#Price of bitcoin obn th y-axis\n",
      "s = df['B']\n",
      "s.plot()"
     ],
     "language": "python",
     "metadata": {},
     "outputs": [
      {
       "metadata": {},
       "output_type": "pyout",
       "prompt_number": 7,
       "text": [
        "<matplotlib.axes._subplots.AxesSubplot at 0x7f001c72e550>"
       ]
      },
      {
       "metadata": {},
       "output_type": "display_data",
       "png": "[encoded data removed]",
       "text": [
        "<Figure size 600x400 with 1 Axes>"
       ]
      }
     ],
     "prompt_number": 7
    },
    {
     "cell_type": "code",
     "collapsed": false,
     "input": [
      "%%bash\n",
      "pwd"
     ],
     "language": "python",
     "metadata": {},
     "outputs": [
      {
       "output_type": "stream",
       "stream": "stdout",
       "text": [
        "/home/francisodisi/mecha\n"
       ]
      }
     ],
     "prompt_number": 8
    },
    {
     "cell_type": "code",
     "collapsed": false,
     "input": [
      "# VWAP"
     ],
     "language": "python",
     "metadata": {},
     "outputs": [],
     "prompt_number": 9
    },
    {
     "cell_type": "code",
     "collapsed": false,
     "input": [
      "# Pseudocode to calculate VWAP (volume weighted average price)\n",
      "# VWAP = sum((price)(volume))/sum(volume)"
     ],
     "language": "python",
     "metadata": {},
     "outputs": [],
     "prompt_number": 10
    },
    {
     "cell_type": "code",
     "collapsed": false,
     "input": [
      "#cell for checking behavior of np functions\n",
      "a = np.array([1,2,3,4])\n",
      "b = np.array([2,3,4,5])\n",
      "c = a * b\n",
      "c, np.sum(c)"
     ],
     "language": "python",
     "metadata": {},
     "outputs": [
      {
       "metadata": {},
       "output_type": "pyout",
       "prompt_number": 11,
       "text": [
        "(array([ 2,  6, 12, 20]), 40)"
       ]
      }
     ],
     "prompt_number": 11
    },
    {
     "cell_type": "code",
     "collapsed": false,
     "input": [
      "#df"
     ],
     "language": "python",
     "metadata": {},
     "outputs": [],
     "prompt_number": 12
    },
    {
     "cell_type": "code",
     "collapsed": false,
     "input": [
      "product_price_x_volume = df['B']*df['C']\n",
      "vwap = np.sum(product_price_x_volume) / np.sum(df['C'])\n",
      "#product_price_x_volume"
     ],
     "language": "python",
     "metadata": {},
     "outputs": [],
     "prompt_number": 13
    },
    {
     "cell_type": "code",
     "collapsed": false,
     "input": [
      "\"sum(price*volume): {0} | sum(volume): {1}\".format(np.sum(product_price_x_volume), np.sum(df['C']))"
     ],
     "language": "python",
     "metadata": {},
     "outputs": [
      {
       "metadata": {},
       "output_type": "pyout",
       "prompt_number": 14,
       "text": [
        "'sum(price*volume): 24717616.255881153 | sum(volume): 3303.70352577'"
       ]
      }
     ],
     "prompt_number": 14
    },
    {
     "cell_type": "code",
     "collapsed": false,
     "input": [
      "vwap"
     ],
     "language": "python",
     "metadata": {},
     "outputs": [
      {
       "metadata": {},
       "output_type": "pyout",
       "prompt_number": 15,
       "text": [
        "7481.79007682603"
       ]
      }
     ],
     "prompt_number": 15
    },
    {
     "cell_type": "code",
     "collapsed": false,
     "input": [],
     "language": "python",
     "metadata": {},
     "outputs": [],
     "prompt_number": 15
    },
    {
     "cell_type": "code",
     "collapsed": false,
     "input": [],
     "language": "python",
     "metadata": {},
     "outputs": [],
     "prompt_number": 15
    },
    {
     "cell_type": "code",
     "collapsed": false,
     "input": [],
     "language": "python",
     "metadata": {},
     "outputs": [],
     "prompt_number": 15
    },
    {
     "cell_type": "code",
     "collapsed": false,
     "input": [],
     "language": "python",
     "metadata": {},
     "outputs": [],
     "prompt_number": 15
    }
   ],
   "metadata": {}
  }
 ]
}