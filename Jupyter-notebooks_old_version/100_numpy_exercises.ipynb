{
 "metadata": {
  "name": "",
  "signature": "sha256:adf8c12cc1cdcac566cc75423dd283012aecc932912ae0e5652f4c55530ba295"
 },
 "nbformat": 3,
 "nbformat_minor": 0,
 "worksheets": [
  {
   "cells": [
    {
     "cell_type": "code",
     "collapsed": false,
     "input": [
      "#1\n",
      "import numpy as np"
     ],
     "language": "python",
     "metadata": {},
     "outputs": [],
     "prompt_number": 1
    },
    {
     "cell_type": "code",
     "collapsed": false,
     "input": [
      "#2\n",
      "np.__version__, np.show_config()"
     ],
     "language": "python",
     "metadata": {},
     "outputs": [
      {
       "output_type": "stream",
       "stream": "stdout",
       "text": [
        "lapack_mkl_info:\n",
        "  NOT AVAILABLE\n",
        "blas_opt_info:\n",
        "    language = c\n",
        "    libraries = ['openblas', 'openblas']\n",
        "    library_dirs = ['/usr/local/lib']\n",
        "    define_macros = [('HAVE_CBLAS', None)]\n",
        "openblas_lapack_info:\n",
        "    language = c\n",
        "    libraries = ['openblas', 'openblas']\n",
        "    library_dirs = ['/usr/local/lib']\n",
        "    define_macros = [('HAVE_CBLAS', None)]\n",
        "openblas_info:\n",
        "    language = c\n",
        "    libraries = ['openblas', 'openblas']\n",
        "    library_dirs = ['/usr/local/lib']\n",
        "    define_macros = [('HAVE_CBLAS', None)]\n",
        "lapack_opt_info:\n",
        "    language = c\n",
        "    libraries = ['openblas', 'openblas']\n",
        "    library_dirs = ['/usr/local/lib']\n",
        "    define_macros = [('HAVE_CBLAS', None)]\n",
        "blis_info:\n",
        "  NOT AVAILABLE\n",
        "blas_mkl_info:\n",
        "  NOT AVAILABLE\n"
       ]
      },
      {
       "metadata": {},
       "output_type": "pyout",
       "prompt_number": 2,
       "text": [
        "('1.14.3', None)"
       ]
      }
     ],
     "prompt_number": 2
    },
    {
     "cell_type": "code",
     "collapsed": false,
     "input": [
      "#3\n",
      "v1 = np.zeros(10)"
     ],
     "language": "python",
     "metadata": {},
     "outputs": [],
     "prompt_number": 3
    },
    {
     "cell_type": "code",
     "collapsed": false,
     "input": [
      "#4\n",
      "v1.size * v1.itemsize, v1.size, v1.itemsize, v1, v1[1]"
     ],
     "language": "python",
     "metadata": {},
     "outputs": [
      {
       "metadata": {},
       "output_type": "pyout",
       "prompt_number": 4,
       "text": [
        "(80, 10, 8, array([0., 0., 0., 0., 0., 0., 0., 0., 0., 0.]), 0.0)"
       ]
      }
     ],
     "prompt_number": 4
    },
    {
     "cell_type": "code",
     "collapsed": false,
     "input": [
      "#5\n",
      "np.info(np.add)"
     ],
     "language": "python",
     "metadata": {},
     "outputs": [
      {
       "output_type": "stream",
       "stream": "stdout",
       "text": [
        "add(x1, x2, /, out=None, *, where=True, casting='same_kind', order='K', dtype=None, subok=True[, signature, extobj])\n",
        "\n",
        "Add arguments element-wise.\n",
        "\n",
        "Parameters\n",
        "----------\n",
        "x1, x2 : array_like\n",
        "    The arrays to be added.  If ``x1.shape != x2.shape``, they must be\n",
        "    broadcastable to a common shape (which may be the shape of one or\n",
        "    the other).\n",
        "out : ndarray, None, or tuple of ndarray and None, optional\n",
        "    A location into which the result is stored. If provided, it must have\n",
        "    a shape that the inputs broadcast to. If not provided or `None`,\n",
        "    a freshly-allocated array is returned. A tuple (possible only as a\n",
        "    keyword argument) must have length equal to the number of outputs.\n",
        "where : array_like, optional\n",
        "    Values of True indicate to calculate the ufunc at that position, values\n",
        "    of False indicate to leave the value in the output alone.\n",
        "**kwargs\n",
        "    For other keyword-only arguments, see the\n",
        "    :ref:`ufunc docs <ufuncs.kwargs>`.\n",
        "\n",
        "Returns\n",
        "-------\n",
        "add : ndarray or scalar\n",
        "    The sum of `x1` and `x2`, element-wise.  Returns a scalar if\n",
        "    both  `x1` and `x2` are scalars.\n",
        "\n",
        "Notes\n",
        "-----\n",
        "Equivalent to `x1` + `x2` in terms of array broadcasting.\n",
        "\n",
        "Examples\n",
        "--------\n",
        ">>> np.add(1.0, 4.0)\n",
        "5.0\n",
        ">>> x1 = np.arange(9.0).reshape((3, 3))\n",
        ">>> x2 = np.arange(3.0)\n",
        ">>> np.add(x1, x2)\n",
        "array([[  0.,   2.,   4.],\n",
        "       [  3.,   5.,   7.],\n",
        "       [  6.,   8.,  10.]])\n"
       ]
      }
     ],
     "prompt_number": 5
    },
    {
     "cell_type": "code",
     "collapsed": false,
     "input": [
      "#6\n",
      "#my solution\n",
      "v1 = np.zeros(10)\n",
      "v1[4] = 1\n",
      "#another solution from stackoverflow\n",
      "v2 = (np.arange(10) == 4).astype(int)\n",
      "v1, v2"
     ],
     "language": "python",
     "metadata": {},
     "outputs": [
      {
       "metadata": {},
       "output_type": "pyout",
       "prompt_number": 6,
       "text": [
        "(array([0., 0., 0., 0., 1., 0., 0., 0., 0., 0.]),\n",
        " array([0, 0, 0, 0, 1, 0, 0, 0, 0, 0]))"
       ]
      }
     ],
     "prompt_number": 6
    },
    {
     "cell_type": "code",
     "collapsed": false,
     "input": [
      "#7\n",
      "v = np.arange(10, 50)\n",
      "v"
     ],
     "language": "python",
     "metadata": {},
     "outputs": [
      {
       "metadata": {},
       "output_type": "pyout",
       "prompt_number": 7,
       "text": [
        "array([10, 11, 12, 13, 14, 15, 16, 17, 18, 19, 20, 21, 22, 23, 24, 25, 26,\n",
        "       27, 28, 29, 30, 31, 32, 33, 34, 35, 36, 37, 38, 39, 40, 41, 42, 43,\n",
        "       44, 45, 46, 47, 48, 49])"
       ]
      }
     ],
     "prompt_number": 7
    },
    {
     "cell_type": "code",
     "collapsed": false,
     "input": [
      "#8\n",
      "v[::-1]"
     ],
     "language": "python",
     "metadata": {},
     "outputs": [
      {
       "metadata": {},
       "output_type": "pyout",
       "prompt_number": 8,
       "text": [
        "array([49, 48, 47, 46, 45, 44, 43, 42, 41, 40, 39, 38, 37, 36, 35, 34, 33,\n",
        "       32, 31, 30, 29, 28, 27, 26, 25, 24, 23, 22, 21, 20, 19, 18, 17, 16,\n",
        "       15, 14, 13, 12, 11, 10])"
       ]
      }
     ],
     "prompt_number": 8
    },
    {
     "cell_type": "code",
     "collapsed": false,
     "input": [
      "#9\n",
      "v = np.arange(9).reshape(3,3)\n",
      "v"
     ],
     "language": "python",
     "metadata": {},
     "outputs": [
      {
       "metadata": {},
       "output_type": "pyout",
       "prompt_number": 9,
       "text": [
        "array([[0, 1, 2],\n",
        "       [3, 4, 5],\n",
        "       [6, 7, 8]])"
       ]
      }
     ],
     "prompt_number": 9
    },
    {
     "cell_type": "code",
     "collapsed": false,
     "input": [
      "#10\n",
      "v = np.array([0,1,0,2,0,3,0,4])\n",
      "v = np.nonzero(v)\n",
      "v"
     ],
     "language": "python",
     "metadata": {},
     "outputs": [
      {
       "metadata": {},
       "output_type": "pyout",
       "prompt_number": 10,
       "text": [
        "(array([1, 3, 5, 7]),)"
       ]
      }
     ],
     "prompt_number": 10
    },
    {
     "cell_type": "code",
     "collapsed": false,
     "input": [
      "#11\n",
      "np.eye(3), np.identity(3)"
     ],
     "language": "python",
     "metadata": {},
     "outputs": [
      {
       "metadata": {},
       "output_type": "pyout",
       "prompt_number": 11,
       "text": [
        "(array([[1., 0., 0.],\n",
        "        [0., 1., 0.],\n",
        "        [0., 0., 1.]]), array([[1., 0., 0.],\n",
        "        [0., 1., 0.],\n",
        "        [0., 0., 1.]]))"
       ]
      }
     ],
     "prompt_number": 11
    },
    {
     "cell_type": "code",
     "collapsed": false,
     "input": [
      "#12\n",
      "v = np.random.random((3,3,3))\n",
      "v"
     ],
     "language": "python",
     "metadata": {},
     "outputs": [
      {
       "metadata": {},
       "output_type": "pyout",
       "prompt_number": 12,
       "text": [
        "array([[[0.37940419, 0.0381547 , 0.82730665],\n",
        "        [0.38639556, 0.57620147, 0.81594833],\n",
        "        [0.59082355, 0.98004507, 0.78022229]],\n",
        "\n",
        "       [[0.08413779, 0.34960392, 0.51749783],\n",
        "        [0.95765896, 0.77726095, 0.75113962],\n",
        "        [0.17690999, 0.91711291, 0.48541468]],\n",
        "\n",
        "       [[0.61206955, 0.7038751 , 0.99846623],\n",
        "        [0.5776539 , 0.55380093, 0.54222865],\n",
        "        [0.51941183, 0.3726392 , 0.65298611]]])"
       ]
      }
     ],
     "prompt_number": 12
    },
    {
     "cell_type": "code",
     "collapsed": false,
     "input": [
      "#13\n",
      "v = np.random.random((10,10))\n",
      "v.min(), v.max()"
     ],
     "language": "python",
     "metadata": {},
     "outputs": [
      {
       "metadata": {},
       "output_type": "pyout",
       "prompt_number": 13,
       "text": [
        "(0.00028654590573506944, 0.9998092481658222)"
       ]
      }
     ],
     "prompt_number": 13
    },
    {
     "cell_type": "code",
     "collapsed": false,
     "input": [
      "#14\n",
      "v = np.random.random(30)\n",
      "v.mean()"
     ],
     "language": "python",
     "metadata": {},
     "outputs": [
      {
       "metadata": {},
       "output_type": "pyout",
       "prompt_number": 14,
       "text": [
        "0.5526622911399502"
       ]
      }
     ],
     "prompt_number": 14
    },
    {
     "cell_type": "code",
     "collapsed": false,
     "input": [
      "#15\n",
      "v = np.ones((5,5))\n",
      "v[1:-1, 1:-1] = 0\n",
      "v"
     ],
     "language": "python",
     "metadata": {},
     "outputs": [
      {
       "metadata": {},
       "output_type": "pyout",
       "prompt_number": 15,
       "text": [
        "array([[1., 1., 1., 1., 1.],\n",
        "       [1., 0., 0., 0., 1.],\n",
        "       [1., 0., 0., 0., 1.],\n",
        "       [1., 0., 0., 0., 1.],\n",
        "       [1., 1., 1., 1., 1.]])"
       ]
      }
     ],
     "prompt_number": 15
    },
    {
     "cell_type": "code",
     "collapsed": false,
     "input": [
      "#16\n",
      "v = np.ones((5,5))\n",
      "v = np.pad(v, (1,), 'constant', constant_values=(0))\n",
      "v"
     ],
     "language": "python",
     "metadata": {},
     "outputs": [
      {
       "metadata": {},
       "output_type": "pyout",
       "prompt_number": 16,
       "text": [
        "array([[0., 0., 0., 0., 0., 0., 0.],\n",
        "       [0., 1., 1., 1., 1., 1., 0.],\n",
        "       [0., 1., 1., 1., 1., 1., 0.],\n",
        "       [0., 1., 1., 1., 1., 1., 0.],\n",
        "       [0., 1., 1., 1., 1., 1., 0.],\n",
        "       [0., 1., 1., 1., 1., 1., 0.],\n",
        "       [0., 0., 0., 0., 0., 0., 0.]])"
       ]
      }
     ],
     "prompt_number": 16
    },
    {
     "cell_type": "code",
     "collapsed": false,
     "input": [
      "#17\n",
      "print(0 * np.nan)\n",
      "print(np.nan == np.nan)\n",
      "print(np.inf > np.nan)\n",
      "print(np.nan - np.nan)\n",
      "print(0.3 == 3 * 0.1)\n",
      "print(3 * 0.1)"
     ],
     "language": "python",
     "metadata": {},
     "outputs": [
      {
       "output_type": "stream",
       "stream": "stdout",
       "text": [
        "nan\n",
        "False\n",
        "False\n",
        "nan\n",
        "False\n",
        "0.30000000000000004\n"
       ]
      }
     ],
     "prompt_number": 17
    },
    {
     "cell_type": "code",
     "collapsed": false,
     "input": [
      "#18\n",
      "#my solution\n",
      "v = np.diagflat([1,2,3,4], -1)\n",
      "print(v)\n",
      "\n",
      "#found solution\n",
      "Z = np.diag(1+np.arange(4),k=-1)\n",
      "print(Z)\n",
      "#equivalent to found solution, without arange\n",
      "y = np.diag([1,2,3,4], -1)\n",
      "print(y)"
     ],
     "language": "python",
     "metadata": {},
     "outputs": [
      {
       "output_type": "stream",
       "stream": "stdout",
       "text": [
        "[[0 0 0 0 0]\n",
        " [1 0 0 0 0]\n",
        " [0 2 0 0 0]\n",
        " [0 0 3 0 0]\n",
        " [0 0 0 4 0]]\n",
        "[[0 0 0 0 0]\n",
        " [1 0 0 0 0]\n",
        " [0 2 0 0 0]\n",
        " [0 0 3 0 0]\n",
        " [0 0 0 4 0]]\n",
        "[[0 0 0 0 0]\n",
        " [1 0 0 0 0]\n",
        " [0 2 0 0 0]\n",
        " [0 0 3 0 0]\n",
        " [0 0 0 4 0]]\n"
       ]
      }
     ],
     "prompt_number": 18
    },
    {
     "cell_type": "code",
     "collapsed": false,
     "input": [
      "#19\n",
      "v = np.zeros((8,8), dtype=int)\n",
      "v[1::2,::2] = 1\n",
      "v[::2, 1::2] = 1\n",
      "\n",
      "#v2 = np.zeros((8,8), dtype=int)\n",
      "#v2[::2,1::2] = 1\n",
      "print(v)\n",
      "#print(v2)"
     ],
     "language": "python",
     "metadata": {},
     "outputs": [
      {
       "output_type": "stream",
       "stream": "stdout",
       "text": [
        "[[0 1 0 1 0 1 0 1]\n",
        " [1 0 1 0 1 0 1 0]\n",
        " [0 1 0 1 0 1 0 1]\n",
        " [1 0 1 0 1 0 1 0]\n",
        " [0 1 0 1 0 1 0 1]\n",
        " [1 0 1 0 1 0 1 0]\n",
        " [0 1 0 1 0 1 0 1]\n",
        " [1 0 1 0 1 0 1 0]]\n"
       ]
      }
     ],
     "prompt_number": 19
    },
    {
     "cell_type": "code",
     "collapsed": false,
     "input": [
      "#20\n",
      "np.unravel_index(100, (6,7,8))"
     ],
     "language": "python",
     "metadata": {},
     "outputs": [
      {
       "metadata": {},
       "output_type": "pyout",
       "prompt_number": 20,
       "text": [
        "(1, 5, 4)"
       ]
      }
     ],
     "prompt_number": 20
    },
    {
     "cell_type": "code",
     "collapsed": false,
     "input": [
      "#21\n",
      "b = np.array([[0, 1], [1, 0]])\n",
      "np.tile(b, (4,4))"
     ],
     "language": "python",
     "metadata": {},
     "outputs": [
      {
       "metadata": {},
       "output_type": "pyout",
       "prompt_number": 21,
       "text": [
        "array([[0, 1, 0, 1, 0, 1, 0, 1],\n",
        "       [1, 0, 1, 0, 1, 0, 1, 0],\n",
        "       [0, 1, 0, 1, 0, 1, 0, 1],\n",
        "       [1, 0, 1, 0, 1, 0, 1, 0],\n",
        "       [0, 1, 0, 1, 0, 1, 0, 1],\n",
        "       [1, 0, 1, 0, 1, 0, 1, 0],\n",
        "       [0, 1, 0, 1, 0, 1, 0, 1],\n",
        "       [1, 0, 1, 0, 1, 0, 1, 0]])"
       ]
      }
     ],
     "prompt_number": 21
    },
    {
     "cell_type": "code",
     "collapsed": false,
     "input": [
      "#22\n",
      "v = np.random.random((5,5))\n",
      "print(v)\n",
      "min, max = v.min(), v.max()\n",
      "v = (v - min) / (max - min)\n",
      "print(v)\n",
      "#print(v-0.1)"
     ],
     "language": "python",
     "metadata": {},
     "outputs": [
      {
       "output_type": "stream",
       "stream": "stdout",
       "text": [
        "[[0.16741349 0.89312572 0.23032467 0.27836475 0.01593659]\n",
        " [0.17926261 0.21516482 0.40542526 0.2322596  0.98682208]\n",
        " [0.24145986 0.78326515 0.92110615 0.72281256 0.31651266]\n",
        " [0.46230108 0.46166045 0.77501089 0.89754474 0.35848945]\n",
        " [0.42590407 0.99496411 0.83983442 0.24089274 0.80612754]]\n",
        "[[0.1547218  0.89598006 0.21898065 0.26804983 0.        ]\n",
        " [0.16682475 0.20349605 0.39783219 0.22095703 0.99168356]\n",
        " [0.23035437 0.78376608 0.92455988 0.72201849 0.30701493]\n",
        " [0.4559264  0.45527205 0.775335   0.90049374 0.34989094]\n",
        " [0.4187497  1.         0.84154717 0.2297751  0.80711823]]\n"
       ]
      }
     ],
     "prompt_number": 22
    },
    {
     "cell_type": "code",
     "collapsed": false,
     "input": [
      "#23\n",
      "dt = np.dtype([('R','B'), ('G','B'), ('B','B'), ('A','B')])\n",
      "print(dt)\n",
      "dt1 = np.dtype({'names': ['R','G','B','A'],\n",
      "                'formats': ['B', 'B', 'B', 'B']})\n",
      "print(dt1)"
     ],
     "language": "python",
     "metadata": {},
     "outputs": [
      {
       "output_type": "stream",
       "stream": "stdout",
       "text": [
        "[('R', 'u1'), ('G', 'u1'), ('B', 'u1'), ('A', 'u1')]\n",
        "[('R', 'u1'), ('G', 'u1'), ('B', 'u1'), ('A', 'u1')]\n"
       ]
      }
     ],
     "prompt_number": 23
    },
    {
     "cell_type": "code",
     "collapsed": false,
     "input": [
      "#24\n",
      "m1 = np.random.random((5,3))\n",
      "m2 = np.random.random((3,2))\n",
      "m3 = np.dot(m1, m2)\n",
      "print(m3)\n",
      "print(m1.dot(m2))"
     ],
     "language": "python",
     "metadata": {},
     "outputs": [
      {
       "output_type": "stream",
       "stream": "stdout",
       "text": [
        "[[0.91867581 1.46161902]\n",
        " [0.77065757 1.15666434]\n",
        " [0.34610378 0.78578877]\n",
        " [0.21303909 0.46526335]\n",
        " [0.90569225 0.9137006 ]]\n",
        "[[0.91867581 1.46161902]\n",
        " [0.77065757 1.15666434]\n",
        " [0.34610378 0.78578877]\n",
        " [0.21303909 0.46526335]\n",
        " [0.90569225 0.9137006 ]]\n"
       ]
      }
     ],
     "prompt_number": 24
    },
    {
     "cell_type": "code",
     "collapsed": false,
     "input": [
      "#25\n",
      "v = np.arange(10)\n",
      "print(v)\n",
      "v[(3 < v) & (v < 8)] *= -1\n",
      "print(v)"
     ],
     "language": "python",
     "metadata": {},
     "outputs": [
      {
       "output_type": "stream",
       "stream": "stdout",
       "text": [
        "[0 1 2 3 4 5 6 7 8 9]\n",
        "[ 0  1  2  3 -4 -5 -6 -7  8  9]\n"
       ]
      }
     ],
     "prompt_number": 25
    },
    {
     "cell_type": "code",
     "collapsed": false,
     "input": [
      "#26\n",
      "print(sum(range(5),-1))\n",
      "from numpy import *\n",
      "print(sum(range(5),-1))"
     ],
     "language": "python",
     "metadata": {},
     "outputs": [
      {
       "output_type": "stream",
       "stream": "stdout",
       "text": [
        "9\n",
        "10\n"
       ]
      }
     ],
     "prompt_number": 26
    },
    {
     "cell_type": "code",
     "collapsed": false,
     "input": [
      "#27\n",
      "Z = np.random.randint(10, size=10)\n",
      "print(Z)\n",
      "print(Z**Z)\n",
      "print(2 << Z >> 2)\n",
      "print(Z < -Z)\n",
      "print(-Z < Z)\n",
      "print(Z)\n",
      "print(1j*Z)\n",
      "print(Z/1/1)\n",
      "print(Z<Z>Z)"
     ],
     "language": "python",
     "metadata": {},
     "outputs": [
      {
       "output_type": "stream",
       "stream": "stdout",
       "text": [
        "[7 3 5 2 7 5 3 6 4 2]\n",
        "[823543     27   3125      4 823543   3125     27  46656    256      4]\n",
        "[64  4 16  2 64 16  4 32  8  2]\n",
        "[False False False False False False False False False False]\n",
        "[ True  True  True  True  True  True  True  True  True  True]\n",
        "[7 3 5 2 7 5 3 6 4 2]\n",
        "[0.+7.j 0.+3.j 0.+5.j 0.+2.j 0.+7.j 0.+5.j 0.+3.j 0.+6.j 0.+4.j 0.+2.j]\n",
        "[7. 3. 5. 2. 7. 5. 3. 6. 4. 2.]\n"
       ]
      },
      {
       "ename": "ValueError",
       "evalue": "The truth value of an array with more than one element is ambiguous. Use a.any() or a.all()",
       "output_type": "pyerr",
       "traceback": [
        "\u001b[0;31m---------------------------------------------------------------------------\u001b[0m\n\u001b[0;31mValueError\u001b[0m                                Traceback (most recent call last)",
        "\u001b[0;32m<ipython-input-114-f3a0b3977c8c>\u001b[0m in \u001b[0;36m<module>\u001b[0;34m()\u001b[0m\n\u001b[1;32m      9\u001b[0m \u001b[0mprint\u001b[0m\u001b[0;34m(\u001b[0m\u001b[0;36m1j\u001b[0m\u001b[0;34m*\u001b[0m\u001b[0mZ\u001b[0m\u001b[0;34m)\u001b[0m\u001b[0;34m\u001b[0m\u001b[0m\n\u001b[1;32m     10\u001b[0m \u001b[0mprint\u001b[0m\u001b[0;34m(\u001b[0m\u001b[0mZ\u001b[0m\u001b[0;34m/\u001b[0m\u001b[0;36m1\u001b[0m\u001b[0;34m/\u001b[0m\u001b[0;36m1\u001b[0m\u001b[0;34m)\u001b[0m\u001b[0;34m\u001b[0m\u001b[0m\n\u001b[0;32m---> 11\u001b[0;31m \u001b[0mprint\u001b[0m\u001b[0;34m(\u001b[0m\u001b[0mZ\u001b[0m\u001b[0;34m<\u001b[0m\u001b[0mZ\u001b[0m\u001b[0;34m>\u001b[0m\u001b[0mZ\u001b[0m\u001b[0;34m)\u001b[0m\u001b[0;34m\u001b[0m\u001b[0m\n\u001b[0m",
        "\u001b[0;31mValueError\u001b[0m: The truth value of an array with more than one element is ambiguous. Use a.any() or a.all()"
       ]
      }
     ],
     "prompt_number": 114
    },
    {
     "cell_type": "code",
     "collapsed": false,
     "input": [
      "#28\n",
      "print(np.array(0) / np.array(0))\n",
      "print(np.array(0) // np.array(0))\n",
      "print(np.array([np.nan]).astype(int).astype(float))\n",
      "print(np.array([np.nan]).astype(int))\n",
      "print(np.array([np.nan]))"
     ],
     "language": "python",
     "metadata": {},
     "outputs": [
      {
       "output_type": "stream",
       "stream": "stdout",
       "text": [
        "nan\n",
        "0\n",
        "[-9.22337204e+18]\n",
        "[-9223372036854775808]\n",
        "[nan]\n"
       ]
      },
      {
       "output_type": "stream",
       "stream": "stderr",
       "text": [
        "-c:2: RuntimeWarning: invalid value encountered in true_divide\n",
        "-c:3: RuntimeWarning: divide by zero encountered in floor_divide\n"
       ]
      }
     ],
     "prompt_number": 28
    },
    {
     "cell_type": "code",
     "collapsed": false,
     "input": [
      "#29\n",
      "v = np.random.uniform(-20,+20,10)\n",
      "print(v)\n",
      "print(np.abs(v))\n",
      "print(np.ceil(np.abs(Z)))\n",
      "print (np.copysign(np.ceil(np.abs(Z)), Z))"
     ],
     "language": "python",
     "metadata": {},
     "outputs": [
      {
       "output_type": "stream",
       "stream": "stdout",
       "text": [
        "[ 1.25185487 -2.96997648  5.57112594  2.49683772 17.71650345 17.06869463\n",
        "  2.8561292  -8.29305197 15.848837   -6.52222142]\n",
        "[ 1.25185487  2.96997648  5.57112594  2.49683772 17.71650345 17.06869463\n",
        "  2.8561292   8.29305197 15.848837    6.52222142]\n",
        "[1. 1. 1. 1. 1. 1. 1. 1. 1. 1.]\n",
        "[1. 1. 1. 1. 1. 1. 1. 1. 1. 1.]\n"
       ]
      }
     ],
     "prompt_number": 29
    },
    {
     "cell_type": "code",
     "collapsed": false,
     "input": [
      "#30\n",
      "v1 = np.array([1,2,3,4,5,6,7,8,9])\n",
      "v2 = np.array([2,4,6,8,10])\n",
      "np.intersect1d(v1, v2)"
     ],
     "language": "python",
     "metadata": {},
     "outputs": [
      {
       "metadata": {},
       "output_type": "pyout",
       "prompt_number": 30,
       "text": [
        "array([2, 4, 6, 8])"
       ]
      }
     ],
     "prompt_number": 30
    },
    {
     "cell_type": "code",
     "collapsed": false,
     "input": [
      "#31\n",
      "# ignore all\n",
      "#r = np.ones(1) / 0\n",
      "defaults = np.seterr(all=\"ignore\")\n",
      "r = np.ones(1) / 0\n",
      "\n",
      "# return default settings\n",
      "_ = np.seterr(**defaults)"
     ],
     "language": "python",
     "metadata": {},
     "outputs": [],
     "prompt_number": 31
    },
    {
     "cell_type": "code",
     "collapsed": false,
     "input": [
      "#32\n",
      "print(np.sqrt(-1))\n",
      "print(np.emath.sqrt(-1))\n",
      "np.sqrt(-1) == np.emath.sqrt(-1)"
     ],
     "language": "python",
     "metadata": {},
     "outputs": [
      {
       "output_type": "stream",
       "stream": "stdout",
       "text": [
        "nan\n",
        "1j\n"
       ]
      },
      {
       "output_type": "stream",
       "stream": "stderr",
       "text": [
        "-c:2: RuntimeWarning: invalid value encountered in sqrt\n",
        "-c:4: RuntimeWarning: invalid value encountered in sqrt\n"
       ]
      },
      {
       "metadata": {},
       "output_type": "pyout",
       "prompt_number": 32,
       "text": [
        "False"
       ]
      }
     ],
     "prompt_number": 32
    },
    {
     "cell_type": "code",
     "collapsed": false,
     "input": [
      "#33\n",
      "today = np.datetime64('today', 'D')\n",
      "yesterday = np.datetime64('today', 'D') - np.timedelta64(1, 'D')\n",
      "tomorrow = np.datetime64('today', 'D') + np.timedelta64(1, 'D')\n",
      "print(yesterday)\n",
      "print(today)\n",
      "print(tomorrow)\n",
      "\n",
      "print(today - 1)\n",
      "print(today)\n",
      "print(today + 1)"
     ],
     "language": "python",
     "metadata": {},
     "outputs": [
      {
       "output_type": "stream",
       "stream": "stdout",
       "text": [
        "2018-06-05\n",
        "2018-06-06\n",
        "2018-06-07\n",
        "2018-06-05\n",
        "2018-06-06\n",
        "2018-06-07\n"
       ]
      }
     ],
     "prompt_number": 33
    },
    {
     "cell_type": "code",
     "collapsed": false,
     "input": [
      "#34\n",
      "v = np.arange('2016-07', '2016-08', dtype='datetime64[D]')\n",
      "v"
     ],
     "language": "python",
     "metadata": {},
     "outputs": [
      {
       "metadata": {},
       "output_type": "pyout",
       "prompt_number": 34,
       "text": [
        "array(['2016-07-01', '2016-07-02', '2016-07-03', '2016-07-04',\n",
        "       '2016-07-05', '2016-07-06', '2016-07-07', '2016-07-08',\n",
        "       '2016-07-09', '2016-07-10', '2016-07-11', '2016-07-12',\n",
        "       '2016-07-13', '2016-07-14', '2016-07-15', '2016-07-16',\n",
        "       '2016-07-17', '2016-07-18', '2016-07-19', '2016-07-20',\n",
        "       '2016-07-21', '2016-07-22', '2016-07-23', '2016-07-24',\n",
        "       '2016-07-25', '2016-07-26', '2016-07-27', '2016-07-28',\n",
        "       '2016-07-29', '2016-07-30', '2016-07-31'], dtype='datetime64[D]')"
       ]
      }
     ],
     "prompt_number": 34
    },
    {
     "cell_type": "code",
     "collapsed": false,
     "input": [
      "#35\n",
      "#my solution\n",
      "A = np.ones(3)*1\n",
      "B = np.ones(3)*2\n",
      "print(A)\n",
      "print(B)\n",
      "print(np.add(A,B))\n",
      "print(np.negative(A))\n",
      "print(np.multiply(A,B))\n",
      "print(np.divide(A,2))\n",
      "print(np.multiply(np.add(A,B), (np.divide(np.negative(A), 2))))\n",
      "\n",
      "#found solution\n",
      "A = np.ones(3)*1\n",
      "B = np.ones(3)*2\n",
      "C = np.ones(3)*3\n",
      "print(A)\n",
      "print(B)\n",
      "np.add(A,B,out=B)\n",
      "print(B)\n",
      "np.divide(A,2,out=A)\n",
      "print(A)\n",
      "np.negative(A,out=A)\n",
      "print(A)\n",
      "np.multiply(A,B,out=A)\n",
      "print(A)"
     ],
     "language": "python",
     "metadata": {},
     "outputs": [
      {
       "output_type": "stream",
       "stream": "stdout",
       "text": [
        "[1. 1. 1.]\n",
        "[2. 2. 2.]\n",
        "[3. 3. 3.]\n",
        "[-1. -1. -1.]\n",
        "[2. 2. 2.]\n",
        "[0.5 0.5 0.5]\n",
        "[-1.5 -1.5 -1.5]\n",
        "[1. 1. 1.]\n",
        "[2. 2. 2.]\n",
        "[3. 3. 3.]\n",
        "[0.5 0.5 0.5]\n",
        "[-0.5 -0.5 -0.5]\n",
        "[-1.5 -1.5 -1.5]\n"
       ]
      }
     ],
     "prompt_number": 35
    },
    {
     "cell_type": "code",
     "collapsed": false,
     "input": [
      "#36\n",
      "v = np.random.uniform(0, 10, 10)\n",
      "print(v)\n",
      "print(v - (v % 1))\n",
      "print(np.floor(v))\n",
      "print(np.ceil(v)-1)\n",
      "print(v.astype(int))\n",
      "print(np.trunc(v))"
     ],
     "language": "python",
     "metadata": {},
     "outputs": [
      {
       "output_type": "stream",
       "stream": "stdout",
       "text": [
        "[1.93051506 1.57446771 2.1559941  4.07672281 4.8596816  4.99579372\n",
        " 3.88166614 4.75069173 9.36105669 6.8535567 ]\n",
        "[1. 1. 2. 4. 4. 4. 3. 4. 9. 6.]\n",
        "[1. 1. 2. 4. 4. 4. 3. 4. 9. 6.]\n",
        "[1. 1. 2. 4. 4. 4. 3. 4. 9. 6.]\n",
        "[1 1 2 4 4 4 3 4 9 6]\n",
        "[1. 1. 2. 4. 4. 4. 3. 4. 9. 6.]\n"
       ]
      }
     ],
     "prompt_number": 36
    },
    {
     "cell_type": "code",
     "collapsed": false,
     "input": [
      "#37\n",
      "v = np.zeros((5,5))\n",
      "print(v)\n",
      "v[::] = np.arange(5)\n",
      "print(v)\n",
      "\n",
      "#found solution\n",
      "Z = np.zeros((5,5))\n",
      "Z += np.arange(5)\n",
      "print(Z)"
     ],
     "language": "python",
     "metadata": {},
     "outputs": [
      {
       "output_type": "stream",
       "stream": "stdout",
       "text": [
        "[[0. 0. 0. 0. 0.]\n",
        " [0. 0. 0. 0. 0.]\n",
        " [0. 0. 0. 0. 0.]\n",
        " [0. 0. 0. 0. 0.]\n",
        " [0. 0. 0. 0. 0.]]\n",
        "[[0. 1. 2. 3. 4.]\n",
        " [0. 1. 2. 3. 4.]\n",
        " [0. 1. 2. 3. 4.]\n",
        " [0. 1. 2. 3. 4.]\n",
        " [0. 1. 2. 3. 4.]]\n",
        "[[0. 1. 2. 3. 4.]\n",
        " [0. 1. 2. 3. 4.]\n",
        " [0. 1. 2. 3. 4.]\n",
        " [0. 1. 2. 3. 4.]\n",
        " [0. 1. 2. 3. 4.]]\n"
       ]
      }
     ],
     "prompt_number": 49
    },
    {
     "cell_type": "code",
     "collapsed": false,
     "input": [
      "#38\n",
      "iterable = (x*x for x in range(1,11))\n",
      "np.fromiter(iterable, int)"
     ],
     "language": "python",
     "metadata": {},
     "outputs": [
      {
       "metadata": {},
       "output_type": "pyout",
       "prompt_number": 51,
       "text": [
        "array([  1,   4,   9,  16,  25,  36,  49,  64,  81, 100])"
       ]
      }
     ],
     "prompt_number": 51
    },
    {
     "cell_type": "code",
     "collapsed": false,
     "input": [
      "#39\n",
      "np.linspace(0, 1, 11, endpoint=False)[1::]"
     ],
     "language": "python",
     "metadata": {},
     "outputs": [
      {
       "metadata": {},
       "output_type": "pyout",
       "prompt_number": 58,
       "text": [
        "array([0.09090909, 0.18181818, 0.27272727, 0.36363636, 0.45454545,\n",
        "       0.54545455, 0.63636364, 0.72727273, 0.81818182, 0.90909091])"
       ]
      }
     ],
     "prompt_number": 58
    },
    {
     "cell_type": "code",
     "collapsed": false,
     "input": [
      "#40\n",
      "v = np.random.random(10)\n",
      "print(v)\n",
      "v.sort()\n",
      "print(v)"
     ],
     "language": "python",
     "metadata": {},
     "outputs": [
      {
       "output_type": "stream",
       "stream": "stdout",
       "text": [
        "[0.86839371 0.3235609  0.33501831 0.86947555 0.63764849 0.95818801\n",
        " 0.96892903 0.99988285 0.48892933 0.72970994]\n",
        "[0.3235609  0.33501831 0.48892933 0.63764849 0.72970994 0.86839371\n",
        " 0.86947555 0.95818801 0.96892903 0.99988285]\n"
       ]
      }
     ],
     "prompt_number": 64
    },
    {
     "cell_type": "code",
     "collapsed": false,
     "input": [
      "#41\n",
      "v = np.arange(10)\n",
      "print(v)\n",
      "print(np.sum(v))\n",
      "np.add.reduce(v)"
     ],
     "language": "python",
     "metadata": {},
     "outputs": [
      {
       "output_type": "stream",
       "stream": "stdout",
       "text": [
        "[0 1 2 3 4 5 6 7 8 9]\n",
        "45\n"
       ]
      },
      {
       "metadata": {},
       "output_type": "pyout",
       "prompt_number": 71,
       "text": [
        "45"
       ]
      }
     ],
     "prompt_number": 71
    },
    {
     "cell_type": "code",
     "collapsed": false,
     "input": [
      "#42\n",
      "a = np.random.randint(0,2,5)\n",
      "b = np.random.randint(0,2,5)\n",
      "print(a)\n",
      "print(b)\n",
      "print(np.allclose(a,b))\n",
      "print(np.array_equal(a,b))\n",
      "\n",
      "a = np.arange(5)\n",
      "b = np.arange(5)\n",
      "print(a)\n",
      "print(b)\n",
      "print(np.allclose(a,b))\n",
      "print(np.array_equal(a,b))\n",
      "\n",
      "#found solution\n",
      "A = np.random.randint(0,2,5)\n",
      "B = np.random.randint(0,2,5)\n",
      "\n",
      "# Assuming identical shape of the arrays and a tolerance for the comparison of values\n",
      "equal = np.allclose(A,B)\n",
      "print(equal)\n",
      "\n",
      "# Checking both the shape and the element values, no tolerance (values have to be exactly equal)\n",
      "equal = np.array_equal(A,B)\n",
      "print(equal)"
     ],
     "language": "python",
     "metadata": {},
     "outputs": [
      {
       "output_type": "stream",
       "stream": "stdout",
       "text": [
        "[0 1 1 1 1]\n",
        "[0 1 0 0 0]\n",
        "False\n",
        "False\n",
        "[0 1 2 3 4]\n",
        "[0 1 2 3 4]\n",
        "True\n",
        "True\n",
        "False\n",
        "False\n"
       ]
      }
     ],
     "prompt_number": 80
    },
    {
     "cell_type": "code",
     "collapsed": false,
     "input": [
      "#43\n",
      "a = np.arange(10)\n",
      "a.flags.writeable = False\n",
      "a += 1"
     ],
     "language": "python",
     "metadata": {},
     "outputs": [
      {
       "ename": "ValueError",
       "evalue": "output array is read-only",
       "output_type": "pyerr",
       "traceback": [
        "\u001b[0;31m---------------------------------------------------------------------------\u001b[0m\n\u001b[0;31mValueError\u001b[0m                                Traceback (most recent call last)",
        "\u001b[0;32m<ipython-input-81-1eb410737bc9>\u001b[0m in \u001b[0;36m<module>\u001b[0;34m()\u001b[0m\n\u001b[1;32m      2\u001b[0m \u001b[0ma\u001b[0m \u001b[0;34m=\u001b[0m \u001b[0mnp\u001b[0m\u001b[0;34m.\u001b[0m\u001b[0marange\u001b[0m\u001b[0;34m(\u001b[0m\u001b[0;36m10\u001b[0m\u001b[0;34m)\u001b[0m\u001b[0;34m\u001b[0m\u001b[0m\n\u001b[1;32m      3\u001b[0m \u001b[0ma\u001b[0m\u001b[0;34m.\u001b[0m\u001b[0mflags\u001b[0m\u001b[0;34m.\u001b[0m\u001b[0mwriteable\u001b[0m \u001b[0;34m=\u001b[0m \u001b[0;32mFalse\u001b[0m\u001b[0;34m\u001b[0m\u001b[0m\n\u001b[0;32m----> 4\u001b[0;31m \u001b[0ma\u001b[0m \u001b[0;34m+=\u001b[0m \u001b[0;36m1\u001b[0m\u001b[0;34m\u001b[0m\u001b[0m\n\u001b[0m",
        "\u001b[0;31mValueError\u001b[0m: output array is read-only"
       ]
      }
     ],
     "prompt_number": 81
    },
    {
     "cell_type": "code",
     "collapsed": false,
     "input": [
      "#44\n",
      "v = np.random.randint(5, size=(10,2))\n",
      "#r2 = 122 + 52\n",
      "#r = \u221a (122 + 52)\n",
      "\n",
      "#angle = tan-1 ( 5 / 12 )\n",
      "print(v)\n",
      "x = np.sqrt(v[:,0])\n",
      "y = np.sqrt(v[:,1])\n",
      "print(x)\n",
      "print(y)\n",
      "\n",
      "r = np.sqrt(x**2 + y**2)\n",
      "angle = np.arctan2(y, x)\n",
      "print(r)\n",
      "print(angle)"
     ],
     "language": "python",
     "metadata": {},
     "outputs": [
      {
       "output_type": "stream",
       "stream": "stdout",
       "text": [
        "[[4 3]\n",
        " [1 1]\n",
        " [3 3]\n",
        " [0 0]\n",
        " [0 4]\n",
        " [4 1]\n",
        " [3 3]\n",
        " [3 3]\n",
        " [3 1]\n",
        " [4 4]]\n",
        "[2.         1.         1.73205081 0.         0.         2.\n",
        " 1.73205081 1.73205081 1.73205081 2.        ]\n",
        "[1.73205081 1.         1.73205081 0.         2.         1.\n",
        " 1.73205081 1.73205081 1.         2.        ]\n",
        "[2.64575131 1.41421356 2.44948974 0.         2.         2.23606798\n",
        " 2.44948974 2.44948974 2.         2.82842712]\n",
        "[0.71372438 0.78539816 0.78539816 0.         1.57079633 0.46364761\n",
        " 0.78539816 0.78539816 0.52359878 0.78539816]\n"
       ]
      }
     ],
     "prompt_number": 93
    },
    {
     "cell_type": "code",
     "collapsed": false,
     "input": [
      "#45\n",
      "v = np.random.randint(50, size=10)\n",
      "print(v)\n",
      "v[np.argmax(v)] = 0\n",
      "print(v)"
     ],
     "language": "python",
     "metadata": {},
     "outputs": [
      {
       "output_type": "stream",
       "stream": "stdout",
       "text": [
        "[45 47 28 34 18  8 39 15 17 10]\n",
        "[45  0 28 34 18  8 39 15 17 10]\n"
       ]
      }
     ],
     "prompt_number": 99
    },
    {
     "cell_type": "code",
     "collapsed": false,
     "input": [
      "#46\n",
      "Z = np.zeros((5,5), [('x',float),('y',float)])\n",
      "print(Z)\n",
      "Z['x'], Z['y'] = np.meshgrid(np.linspace(0,1,5),\n",
      "                             np.linspace(0,1,5))\n",
      "print(Z['x'])\n",
      "print(Z['y'])\n",
      "print(Z)"
     ],
     "language": "python",
     "metadata": {},
     "outputs": [
      {
       "output_type": "stream",
       "stream": "stdout",
       "text": [
        "[[(0., 0.) (0., 0.) (0., 0.) (0., 0.) (0., 0.)]\n",
        " [(0., 0.) (0., 0.) (0., 0.) (0., 0.) (0., 0.)]\n",
        " [(0., 0.) (0., 0.) (0., 0.) (0., 0.) (0., 0.)]\n",
        " [(0., 0.) (0., 0.) (0., 0.) (0., 0.) (0., 0.)]\n",
        " [(0., 0.) (0., 0.) (0., 0.) (0., 0.) (0., 0.)]]\n",
        "[[0.   0.25 0.5  0.75 1.  ]\n",
        " [0.   0.25 0.5  0.75 1.  ]\n",
        " [0.   0.25 0.5  0.75 1.  ]\n",
        " [0.   0.25 0.5  0.75 1.  ]\n",
        " [0.   0.25 0.5  0.75 1.  ]]\n",
        "[[(0.  , 0.  ) (0.25, 0.  ) (0.5 , 0.  ) (0.75, 0.  ) (1.  , 0.  )]\n",
        " [(0.  , 0.25) (0.25, 0.25) (0.5 , 0.25) (0.75, 0.25) (1.  , 0.25)]\n",
        " [(0.  , 0.5 ) (0.25, 0.5 ) (0.5 , 0.5 ) (0.75, 0.5 ) (1.  , 0.5 )]\n",
        " [(0.  , 0.75) (0.25, 0.75) (0.5 , 0.75) (0.75, 0.75) (1.  , 0.75)]\n",
        " [(0.  , 1.  ) (0.25, 1.  ) (0.5 , 1.  ) (0.75, 1.  ) (1.  , 1.  )]]\n"
       ]
      }
     ],
     "prompt_number": 135
    },
    {
     "cell_type": "code",
     "collapsed": false,
     "input": [
      "#47\n",
      "X = np.random.randint(5, size=8)\n",
      "Y = X + 0.5\n",
      "print(X)\n",
      "print(Y)\n",
      "print(np.subtract.outer(X, Y))\n",
      "C = 1.0 / np.subtract.outer(X, Y)\n",
      "print(C)\n",
      "print(np.linalg.det(C))"
     ],
     "language": "python",
     "metadata": {},
     "outputs": [
      {
       "output_type": "stream",
       "stream": "stdout",
       "text": [
        "[1 2 3 2 2 2 3 4]\n",
        "[1.5 2.5 3.5 2.5 2.5 2.5 3.5 4.5]\n",
        "[[-0.5 -1.5 -2.5 -1.5 -1.5 -1.5 -2.5 -3.5]\n",
        " [ 0.5 -0.5 -1.5 -0.5 -0.5 -0.5 -1.5 -2.5]\n",
        " [ 1.5  0.5 -0.5  0.5  0.5  0.5 -0.5 -1.5]\n",
        " [ 0.5 -0.5 -1.5 -0.5 -0.5 -0.5 -1.5 -2.5]\n",
        " [ 0.5 -0.5 -1.5 -0.5 -0.5 -0.5 -1.5 -2.5]\n",
        " [ 0.5 -0.5 -1.5 -0.5 -0.5 -0.5 -1.5 -2.5]\n",
        " [ 1.5  0.5 -0.5  0.5  0.5  0.5 -0.5 -1.5]\n",
        " [ 2.5  1.5  0.5  1.5  1.5  1.5  0.5 -0.5]]\n",
        "[[-2.         -0.66666667 -0.4        -0.66666667 -0.66666667 -0.66666667\n",
        "  -0.4        -0.28571429]\n",
        " [ 2.         -2.         -0.66666667 -2.         -2.         -2.\n",
        "  -0.66666667 -0.4       ]\n",
        " [ 0.66666667  2.         -2.          2.          2.          2.\n",
        "  -2.         -0.66666667]\n",
        " [ 2.         -2.         -0.66666667 -2.         -2.         -2.\n",
        "  -0.66666667 -0.4       ]\n",
        " [ 2.         -2.         -0.66666667 -2.         -2.         -2.\n",
        "  -0.66666667 -0.4       ]\n",
        " [ 2.         -2.         -0.66666667 -2.         -2.         -2.\n",
        "  -0.66666667 -0.4       ]\n",
        " [ 0.66666667  2.         -2.          2.          2.          2.\n",
        "  -2.         -0.66666667]\n",
        " [ 0.4         0.66666667  2.          0.66666667  0.66666667  0.66666667\n",
        "   2.         -2.        ]]\n",
        "0.0\n"
       ]
      }
     ],
     "prompt_number": 134
    },
    {
     "cell_type": "code",
     "collapsed": false,
     "input": [
      "#48\n",
      "for dtype in [np.int8, np.int32, np.int64]:\n",
      "   print(np.iinfo(dtype).min)\n",
      "   print(np.iinfo(dtype).max)\n",
      "for dtype in [np.float32, np.float64]:\n",
      "   print(np.finfo(dtype).min)\n",
      "   print(np.finfo(dtype).max)\n",
      "   print(np.finfo(dtype).eps)"
     ],
     "language": "python",
     "metadata": {},
     "outputs": [
      {
       "output_type": "stream",
       "stream": "stdout",
       "text": [
        "-128\n",
        "127\n",
        "-2147483648\n",
        "2147483647\n",
        "-9223372036854775808\n",
        "9223372036854775807\n",
        "-3.4028235e+38\n",
        "3.4028235e+38\n",
        "1.1920929e-07\n",
        "-1.7976931348623157e+308\n",
        "1.7976931348623157e+308\n",
        "2.220446049250313e-16\n"
       ]
      }
     ],
     "prompt_number": 136
    },
    {
     "cell_type": "code",
     "collapsed": false,
     "input": [
      "#49\n",
      "np.set_printoptions(threshold=10)\n",
      "v = np.zeros((16,16))\n",
      "print(v)\n",
      "\n",
      "np.set_printoptions(threshold=nan)\n",
      "v = np.zeros((16,16))\n",
      "print(v)"
     ],
     "language": "python",
     "metadata": {},
     "outputs": [
      {
       "output_type": "stream",
       "stream": "stdout",
       "text": [
        "[[0. 0. 0. ... 0. 0. 0.]\n",
        " [0. 0. 0. ... 0. 0. 0.]\n",
        " [0. 0. 0. ... 0. 0. 0.]\n",
        " ...\n",
        " [0. 0. 0. ... 0. 0. 0.]\n",
        " [0. 0. 0. ... 0. 0. 0.]\n",
        " [0. 0. 0. ... 0. 0. 0.]]\n",
        "[[0. 0. 0. 0. 0. 0. 0. 0. 0. 0. 0. 0. 0. 0. 0. 0.]\n",
        " [0. 0. 0. 0. 0. 0. 0. 0. 0. 0. 0. 0. 0. 0. 0. 0.]\n",
        " [0. 0. 0. 0. 0. 0. 0. 0. 0. 0. 0. 0. 0. 0. 0. 0.]\n",
        " [0. 0. 0. 0. 0. 0. 0. 0. 0. 0. 0. 0. 0. 0. 0. 0.]\n",
        " [0. 0. 0. 0. 0. 0. 0. 0. 0. 0. 0. 0. 0. 0. 0. 0.]\n",
        " [0. 0. 0. 0. 0. 0. 0. 0. 0. 0. 0. 0. 0. 0. 0. 0.]\n",
        " [0. 0. 0. 0. 0. 0. 0. 0. 0. 0. 0. 0. 0. 0. 0. 0.]\n",
        " [0. 0. 0. 0. 0. 0. 0. 0. 0. 0. 0. 0. 0. 0. 0. 0.]\n",
        " [0. 0. 0. 0. 0. 0. 0. 0. 0. 0. 0. 0. 0. 0. 0. 0.]\n",
        " [0. 0. 0. 0. 0. 0. 0. 0. 0. 0. 0. 0. 0. 0. 0. 0.]\n",
        " [0. 0. 0. 0. 0. 0. 0. 0. 0. 0. 0. 0. 0. 0. 0. 0.]\n",
        " [0. 0. 0. 0. 0. 0. 0. 0. 0. 0. 0. 0. 0. 0. 0. 0.]\n",
        " [0. 0. 0. 0. 0. 0. 0. 0. 0. 0. 0. 0. 0. 0. 0. 0.]\n",
        " [0. 0. 0. 0. 0. 0. 0. 0. 0. 0. 0. 0. 0. 0. 0. 0.]\n",
        " [0. 0. 0. 0. 0. 0. 0. 0. 0. 0. 0. 0. 0. 0. 0. 0.]\n",
        " [0. 0. 0. 0. 0. 0. 0. 0. 0. 0. 0. 0. 0. 0. 0. 0.]]\n"
       ]
      }
     ],
     "prompt_number": 141
    },
    {
     "cell_type": "code",
     "collapsed": false,
     "input": [
      "#50\n",
      "#my solution\n",
      "v = np.random.random(10)\n",
      "print(v)\n",
      "print(np.argmin(v))\n",
      "print(v[np.argmin(v)])\n",
      "\n",
      "#found solution\n",
      "Z = np.arange(100)\n",
      "v = np.random.uniform(0,100)\n",
      "index = (np.abs(Z-v)).argmin()\n",
      "print(Z[index])"
     ],
     "language": "python",
     "metadata": {},
     "outputs": [
      {
       "output_type": "stream",
       "stream": "stdout",
       "text": [
        "[0.89489569 0.88070883 0.27923624 0.14062575 0.58088232 0.58749729\n",
        " 0.20920753 0.82454918 0.49175834 0.91460779]\n",
        "3\n",
        "0.14062574734956956\n"
       ]
      }
     ],
     "prompt_number": 145
    },
    {
     "cell_type": "code",
     "collapsed": false,
     "input": [
      "#51\n",
      "#Z = np.zeros((5,5), [('x',float),('y',float)])\n",
      "v = np.zeros(10, [('xy',np.dtype([('x', 'f'), ('y', 'f')])),\n",
      "                 ('rgb',np.dtype([('R','f'), ('G','f'), ('B','f')]))])\n",
      "print(v)\n",
      "\n",
      "#found solution\n",
      "Z = np.zeros(10, [ ('position', [ ('x', float, 1),\n",
      "                                  ('y', float, 1)]),\n",
      "                   ('color',    [ ('r', float, 1),\n",
      "                                  ('g', float, 1),\n",
      "                                  ('b', float, 1)])])\n",
      "print(Z)"
     ],
     "language": "python",
     "metadata": {},
     "outputs": [
      {
       "output_type": "stream",
       "stream": "stdout",
       "text": [
        "[((0., 0.), (0., 0., 0.)) ((0., 0.), (0., 0., 0.))\n",
        " ((0., 0.), (0., 0., 0.)) ((0., 0.), (0., 0., 0.))\n",
        " ((0., 0.), (0., 0., 0.)) ((0., 0.), (0., 0., 0.))\n",
        " ((0., 0.), (0., 0., 0.)) ((0., 0.), (0., 0., 0.))\n",
        " ((0., 0.), (0., 0., 0.)) ((0., 0.), (0., 0., 0.))]\n",
        "[((0., 0.), (0., 0., 0.)) ((0., 0.), (0., 0., 0.))\n",
        " ((0., 0.), (0., 0., 0.)) ((0., 0.), (0., 0., 0.))\n",
        " ((0., 0.), (0., 0., 0.)) ((0., 0.), (0., 0., 0.))\n",
        " ((0., 0.), (0., 0., 0.)) ((0., 0.), (0., 0., 0.))\n",
        " ((0., 0.), (0., 0., 0.)) ((0., 0.), (0., 0., 0.))]\n"
       ]
      }
     ],
     "prompt_number": 151
    },
    {
     "cell_type": "code",
     "collapsed": false,
     "input": [
      "#52\n",
      "\n",
      "\n",
      "#found solution\n",
      "Z = np.random.randint(5, size=(3,2))\n",
      "print(Z)\n",
      "X,Y = np.atleast_2d(Z[:,0], Z[:,1])\n",
      "print(X)\n",
      "print(X.T)\n",
      "#print(Y)\n",
      "print('(X-X.T){0}'.format((X-X.T)))\n",
      "D = np.sqrt( (X-X.T)**2 + (Y-Y.T)**2)\n",
      "print(D)\n"
     ],
     "language": "python",
     "metadata": {},
     "outputs": [
      {
       "output_type": "stream",
       "stream": "stdout",
       "text": [
        "[[3 1]\n",
        " [0 1]\n",
        " [1 2]]\n",
        "[[3 0 1]]\n",
        "[[3]\n",
        " [0]\n",
        " [1]]\n",
        "(X-X.T)[[ 0 -3 -2]\n",
        " [ 3  0  1]\n",
        " [ 2 -1  0]]\n",
        "[[0.         3.         2.23606798]\n",
        " [3.         0.         1.41421356]\n",
        " [2.23606798 1.41421356 0.        ]]\n"
       ]
      }
     ],
     "prompt_number": 172
    },
    {
     "cell_type": "code",
     "collapsed": false,
     "input": [
      "#53\n",
      "v = np.arange(10, dtype='float32')\n",
      "print(v)\n",
      "v = v.astype('int32', copy=False)\n",
      "print(v)\n",
      "\n",
      "#found solution\n",
      "Z = np.arange(10, dtype=np.float32)\n",
      "Z = Z.astype(np.int32, copy=False)\n",
      "print(Z)"
     ],
     "language": "python",
     "metadata": {},
     "outputs": [
      {
       "output_type": "stream",
       "stream": "stdout",
       "text": [
        "[0. 1. 2. 3. 4. 5. 6. 7. 8. 9.]\n",
        "[0 1 2 3 4 5 6 7 8 9]\n",
        "[0 1 2 3 4 5 6 7 8 9]\n"
       ]
      }
     ],
     "prompt_number": 181
    },
    {
     "cell_type": "code",
     "collapsed": false,
     "input": [
      "#54\n",
      "from io import StringIO\n",
      "\n",
      "txt = \"\"\"1, 2, 3, 4, 5\n",
      "6,  ,  , 7, 8\n",
      " ,  , 9,10,11\"\"\"\n",
      "\n",
      "s = StringIO(txt)\n",
      "#data = np.genfromtxt(s, dtype=[('myint','i8'),('myfloat','f8'), ('mystring','S5')], delimiter=\",\")\n",
      "#data = np.genfromtxt(s, dtype=int, delimiter=\",\")\n",
      "data = np.genfromtxt(s, delimiter=\",\")\n",
      "data"
     ],
     "language": "python",
     "metadata": {},
     "outputs": [
      {
       "metadata": {},
       "output_type": "pyout",
       "prompt_number": 188,
       "text": [
        "array([[ 1.,  2.,  3.,  4.,  5.],\n",
        "       [ 6., nan, nan,  7.,  8.],\n",
        "       [nan, nan,  9., 10., 11.]])"
       ]
      }
     ],
     "prompt_number": 188
    },
    {
     "cell_type": "code",
     "collapsed": false,
     "input": [
      "#55\n",
      "Z = np.arange(4).reshape(2,2)\n",
      "print(Z)\n",
      "for index, value in np.ndenumerate(Z):\n",
      "    print(index, value)\n",
      "for index in np.ndindex(Z.shape):\n",
      "    print(index, Z[index])"
     ],
     "language": "python",
     "metadata": {},
     "outputs": [
      {
       "output_type": "stream",
       "stream": "stdout",
       "text": [
        "[[0 1]\n",
        " [2 3]]\n",
        "(0, 0) 0\n",
        "(0, 1) 1\n",
        "(1, 0) 2\n",
        "(1, 1) 3\n",
        "(0, 0) 0\n",
        "(0, 1) 1\n",
        "(1, 0) 2\n",
        "(1, 1) 3\n"
       ]
      }
     ],
     "prompt_number": 195
    },
    {
     "cell_type": "code",
     "collapsed": false,
     "input": [
      "#56\n",
      "X, Y = np.meshgrid(np.linspace(-1,1,10), np.linspace(-1,1,10))\n",
      "D = np.sqrt(X*X+Y*Y)\n",
      "sigma, mu = 1.0, 0.0\n",
      "G = np.exp(-( (D-mu)**2 / ( 2.0 * sigma**2 ) ) )\n",
      "print(G)"
     ],
     "language": "python",
     "metadata": {},
     "outputs": [
      {
       "output_type": "stream",
       "stream": "stdout",
       "text": [
        "[[0.36787944 0.44822088 0.51979489 0.57375342 0.60279818 0.60279818\n",
        "  0.57375342 0.51979489 0.44822088 0.36787944]\n",
        " [0.44822088 0.54610814 0.63331324 0.69905581 0.73444367 0.73444367\n",
        "  0.69905581 0.63331324 0.54610814 0.44822088]\n",
        " [0.51979489 0.63331324 0.73444367 0.81068432 0.85172308 0.85172308\n",
        "  0.81068432 0.73444367 0.63331324 0.51979489]\n",
        " [0.57375342 0.69905581 0.81068432 0.89483932 0.9401382  0.9401382\n",
        "  0.89483932 0.81068432 0.69905581 0.57375342]\n",
        " [0.60279818 0.73444367 0.85172308 0.9401382  0.98773022 0.98773022\n",
        "  0.9401382  0.85172308 0.73444367 0.60279818]\n",
        " [0.60279818 0.73444367 0.85172308 0.9401382  0.98773022 0.98773022\n",
        "  0.9401382  0.85172308 0.73444367 0.60279818]\n",
        " [0.57375342 0.69905581 0.81068432 0.89483932 0.9401382  0.9401382\n",
        "  0.89483932 0.81068432 0.69905581 0.57375342]\n",
        " [0.51979489 0.63331324 0.73444367 0.81068432 0.85172308 0.85172308\n",
        "  0.81068432 0.73444367 0.63331324 0.51979489]\n",
        " [0.44822088 0.54610814 0.63331324 0.69905581 0.73444367 0.73444367\n",
        "  0.69905581 0.63331324 0.54610814 0.44822088]\n",
        " [0.36787944 0.44822088 0.51979489 0.57375342 0.60279818 0.60279818\n",
        "  0.57375342 0.51979489 0.44822088 0.36787944]]\n"
       ]
      }
     ],
     "prompt_number": 196
    },
    {
     "cell_type": "code",
     "collapsed": false,
     "input": [
      "#57\n",
      "a = np.zeros((10,10))\n",
      "np.put(a, np.random.choice(range(100),5, replace=False), np.random.choice(50,3))\n",
      "print(a)\n",
      "\n",
      "#found solution\n",
      "n = 10\n",
      "p = 3\n",
      "Z = np.zeros((n,n))\n",
      "np.put(Z, np.random.choice(range(n*n), p, replace=False),1)\n",
      "print(Z)"
     ],
     "language": "python",
     "metadata": {},
     "outputs": [
      {
       "output_type": "stream",
       "stream": "stdout",
       "text": [
        "[[ 0.  1.  0.  0.  0.  0.  0.  0.  0.  0.]\n",
        " [ 0.  0.  0.  0.  0.  0.  0.  0.  0.  0.]\n",
        " [ 0.  0.  0.  0.  0.  0.  0.  0.  0.  9.]\n",
        " [ 0.  0.  0.  0.  0.  0.  0.  0.  1.  0.]\n",
        " [ 0.  0.  0.  0.  0.  0.  0.  0. 12.  0.]\n",
        " [ 0.  0.  0.  0.  0.  0.  0.  0.  0.  0.]\n",
        " [ 0.  0.  0.  0.  0.  0.  0.  0.  0.  0.]\n",
        " [ 0.  0.  0.  0.  0.  0.  0.  0.  0.  0.]\n",
        " [ 0.  0.  0.  0.  0.  0.  0.  0.  0.  0.]\n",
        " [ 0.  0.  9.  0.  0.  0.  0.  0.  0.  0.]]\n",
        "[[0. 0. 0. 0. 0. 0. 0. 1. 0. 1.]\n",
        " [0. 0. 0. 0. 0. 0. 0. 0. 0. 0.]\n",
        " [0. 0. 0. 0. 0. 0. 0. 0. 0. 0.]\n",
        " [0. 0. 0. 0. 0. 0. 0. 0. 0. 0.]\n",
        " [0. 0. 0. 0. 0. 0. 0. 0. 0. 0.]\n",
        " [0. 0. 0. 0. 0. 0. 0. 0. 0. 0.]\n",
        " [0. 0. 0. 0. 0. 0. 0. 0. 0. 0.]\n",
        " [0. 0. 0. 0. 0. 0. 0. 0. 0. 0.]\n",
        " [0. 0. 0. 0. 0. 0. 0. 0. 0. 0.]\n",
        " [0. 1. 0. 0. 0. 0. 0. 0. 0. 0.]]\n"
       ]
      }
     ],
     "prompt_number": 207
    },
    {
     "cell_type": "code",
     "collapsed": false,
     "input": [
      "#58\n",
      "#my solution\n",
      "v = np.random.randint(5, size=(3,3)).astype(float)\n",
      "print(v)\n",
      "v -= np.mean(v, axis=0)\n",
      "print(v)\n",
      "v -= np.mean(v, axis=0, keepdims=True)\n",
      "print(v)\n",
      "\n",
      "\n",
      "#found solution\n",
      "# Author: Warren Weckesser\n",
      "\n",
      "X = np.random.rand(5, 10)\n",
      "print(X)\n",
      "# Recent versions of numpy\n",
      "Y = X - X.mean(axis=1, keepdims=True)\n",
      "\n",
      "# Older versions of numpy\n",
      "Y = X - X.mean(axis=1).reshape(-1, 1)\n",
      "\n",
      "print(Y)"
     ],
     "language": "python",
     "metadata": {},
     "outputs": [
      {
       "output_type": "stream",
       "stream": "stdout",
       "text": [
        "[[2. 4. 3.]\n",
        " [3. 1. 4.]\n",
        " [1. 3. 0.]]\n",
        "[[ 0.          1.33333333  0.66666667]\n",
        " [ 1.         -1.66666667  1.66666667]\n",
        " [-1.          0.33333333 -2.33333333]]\n",
        "[[ 0.          1.33333333  0.66666667]\n",
        " [ 1.         -1.66666667  1.66666667]\n",
        " [-1.          0.33333333 -2.33333333]]\n",
        "[[0.77093694 0.41318851 0.23263922 0.01722858 0.26737135 0.7392397\n",
        "  0.13893629 0.03201162 0.09956006 0.61603294]\n",
        " [0.62746552 0.82554567 0.26435696 0.97466109 0.04073801 0.79953181\n",
        "  0.4511357  0.18819464 0.48411349 0.35353   ]\n",
        " [0.61508307 0.76755678 0.2076053  0.15777691 0.96592531 0.28865603\n",
        "  0.04118913 0.64328559 0.0098241  0.45356305]\n",
        " [0.99325363 0.39411864 0.40085968 0.34254305 0.3365165  0.0747755\n",
        "  0.41690544 0.27209969 0.39022336 0.82536339]\n",
        " [0.74876964 0.71638587 0.12062241 0.21866207 0.83368385 0.80370198\n",
        "  0.98341428 0.99771606 0.20019129 0.65811224]]\n",
        "[[ 0.43822242  0.08047399 -0.1000753  -0.31548594 -0.06534317  0.40652518\n",
        "  -0.19377823 -0.3007029  -0.23315446  0.28331841]\n",
        " [ 0.12653823  0.32461838 -0.23657033  0.4737338  -0.46018928  0.29860452\n",
        "  -0.04979159 -0.31273265 -0.0168138  -0.14739729]\n",
        " [ 0.20003654  0.35251025 -0.20744123 -0.25726962  0.55087878 -0.12639049\n",
        "  -0.3738574   0.22823907 -0.40522242  0.03851652]\n",
        " [ 0.54858774 -0.05054725 -0.04380621 -0.10212284 -0.10814939 -0.36989038\n",
        "  -0.02776044 -0.1725662  -0.05444253  0.3806975 ]\n",
        " [ 0.12064367  0.0882599  -0.50750356 -0.4094639   0.20555788  0.17557601\n",
        "   0.3552883   0.36959009 -0.42793468  0.02998627]]\n"
       ]
      }
     ],
     "prompt_number": 216
    },
    {
     "cell_type": "code",
     "collapsed": false,
     "input": [
      "#59\n",
      "\n",
      "\n",
      "#found solution\n",
      "Z = np.random.randint(0,10,(3,3))\n",
      "print(Z)\n",
      "print(Z[Z[:,1].argsort()])"
     ],
     "language": "python",
     "metadata": {},
     "outputs": [
      {
       "output_type": "stream",
       "stream": "stdout",
       "text": [
        "[[0 5 4]\n",
        " [1 6 1]\n",
        " [0 1 0]]\n",
        "[[0 1 0]\n",
        " [0 5 4]\n",
        " [1 6 1]]\n"
       ]
      }
     ],
     "prompt_number": 217
    },
    {
     "cell_type": "code",
     "collapsed": false,
     "input": [
      "#60\n",
      "\n",
      "\n",
      "#found solution\n",
      "Z = np.random.randint(0,3,(3,10))\n",
      "print(Z)\n",
      "print(Z.any(axis=0))\n",
      "print(~Z.any(axis=0))\n",
      "print((~Z.any(axis=0)).any())"
     ],
     "language": "python",
     "metadata": {},
     "outputs": [
      {
       "output_type": "stream",
       "stream": "stdout",
       "text": [
        "[[0 0 1 2 0 0 2 0 0 0]\n",
        " [2 0 2 0 0 1 0 2 1 1]\n",
        " [0 1 1 0 2 2 1 1 2 1]]\n",
        "[ True  True  True  True  True  True  True  True  True  True]\n",
        "[False False False False False False False False False False]\n",
        "False\n"
       ]
      }
     ],
     "prompt_number": 222
    },
    {
     "cell_type": "code",
     "collapsed": false,
     "input": [
      "#61\n",
      "\n",
      "\n",
      "#found solution\n",
      "Z = np.random.uniform(0,1,10)\n",
      "print(Z)\n",
      "z = 1.\n",
      "print(np.abs(Z - z).argmin())\n",
      "m = Z.flat[np.abs(Z - z).argmin()]\n",
      "print(m)"
     ],
     "language": "python",
     "metadata": {},
     "outputs": [
      {
       "output_type": "stream",
       "stream": "stdout",
       "text": [
        "[0.50998696 0.22673642 0.18899223 0.45851031 0.28320621 0.42316938\n",
        " 0.51381425 0.25484976 0.78401998 0.60816706]\n",
        "8\n",
        "0.7840199790751277\n"
       ]
      }
     ],
     "prompt_number": 225
    },
    {
     "cell_type": "code",
     "collapsed": false,
     "input": [
      "#62\n",
      "#my solution -- INCOMPLETE\n",
      "v = np.random.randint(1, 5, (1,3))\n",
      "print(v)\n",
      "vt = v.T\n",
      "print(vt)\n",
      "\n",
      "#>>> a = np.arange(3)\n",
      "#>>> b = np.arange(6).reshape(2,3)\n",
      "for x, y in np.nditer([v,vt]):\n",
      "    print('{0}-{1}'.format(x,y))\n",
      "\n",
      "#found\n",
      "####\n",
      "A = np.arange(3).reshape(3,1)\n",
      "B = np.arange(3).reshape(1,3)\n",
      "print(A)\n",
      "print(B)\n",
      "it = np.nditer([A,B,None])\n",
      "for x,y,z in it: z[...] = x + y\n",
      "print(it.operands[2])"
     ],
     "language": "python",
     "metadata": {},
     "outputs": [
      {
       "output_type": "stream",
       "stream": "stdout",
       "text": [
        "[[1 4 2]]\n",
        "[[1]\n",
        " [4]\n",
        " [2]]\n",
        "1-1\n",
        "4-1\n",
        "2-1\n",
        "1-4\n",
        "4-4\n",
        "2-4\n",
        "1-2\n",
        "4-2\n",
        "2-2\n",
        "[[0]\n",
        " [1]\n",
        " [2]]\n",
        "[[0 1 2]]\n",
        "[[0 1 2]\n",
        " [1 2 3]\n",
        " [2 3 4]]\n"
       ]
      }
     ],
     "prompt_number": 235
    },
    {
     "cell_type": "code",
     "collapsed": false,
     "input": [],
     "language": "python",
     "metadata": {},
     "outputs": []
    }
   ],
   "metadata": {}
  }
 ]
}